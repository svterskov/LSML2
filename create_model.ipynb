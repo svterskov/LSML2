{
 "cells": [
  {
   "cell_type": "markdown",
   "id": "2058dd82-fb82-45c2-95ea-ca9e7ae94202",
   "metadata": {},
   "source": [
    "# Обучение модели на основе датасета Geo Reviews Dataset 2023\n",
    "\n",
    "Geo Reviews Dataset 2023 - крупнейший русскоязычный датасет отзывов об организациях, опубликованных на Яндекс Картах ([https://github.com/yandex/geo-reviews-dataset-2023](https://github.com/yandex/geo-reviews-dataset-2023))"
   ]
  },
  {
   "cell_type": "markdown",
   "id": "8ea6df6c-87f4-483d-b8c1-7e46a6970e17",
   "metadata": {},
   "source": [
    "## Чтение всех данных из файла формата tskv (Tab-Separated Key-Value)"
   ]
  },
  {
   "cell_type": "code",
   "execution_count": 1,
   "id": "2436e25f-7e1e-4a2e-8bb8-5827381c22f6",
   "metadata": {},
   "outputs": [
    {
     "data": {
      "text/html": [
       "<div>\n",
       "<style scoped>\n",
       "    .dataframe tbody tr th:only-of-type {\n",
       "        vertical-align: middle;\n",
       "    }\n",
       "\n",
       "    .dataframe tbody tr th {\n",
       "        vertical-align: top;\n",
       "    }\n",
       "\n",
       "    .dataframe thead th {\n",
       "        text-align: right;\n",
       "    }\n",
       "</style>\n",
       "<table border=\"1\" class=\"dataframe\">\n",
       "  <thead>\n",
       "    <tr style=\"text-align: right;\">\n",
       "      <th></th>\n",
       "      <th>rating</th>\n",
       "      <th>rubrics</th>\n",
       "      <th>text</th>\n",
       "    </tr>\n",
       "  </thead>\n",
       "  <tbody>\n",
       "    <tr>\n",
       "      <th>0</th>\n",
       "      <td>3.</td>\n",
       "      <td>Жилой комплекс</td>\n",
       "      <td>Московский квартал 2.\\nШумно : летом по ночам ...</td>\n",
       "    </tr>\n",
       "    <tr>\n",
       "      <th>1</th>\n",
       "      <td>5.</td>\n",
       "      <td>Магазин продуктов;Продукты глубокой заморозки;...</td>\n",
       "      <td>Замечательная сеть магазинов в общем, хороший ...</td>\n",
       "    </tr>\n",
       "    <tr>\n",
       "      <th>2</th>\n",
       "      <td>1.</td>\n",
       "      <td>Фитнес-клуб</td>\n",
       "      <td>Не знаю смутят ли кого-то данные правила, но я...</td>\n",
       "    </tr>\n",
       "    <tr>\n",
       "      <th>3</th>\n",
       "      <td>4.</td>\n",
       "      <td>Пункт проката;Прокат велосипедов;Сапсёрфинг</td>\n",
       "      <td>Хорошие условия аренды. \\nДружелюбный персонал...</td>\n",
       "    </tr>\n",
       "    <tr>\n",
       "      <th>4</th>\n",
       "      <td>5.</td>\n",
       "      <td>Салон красоты;Визажисты, стилисты;Салон бровей...</td>\n",
       "      <td>Топ мастер Ангелина топ во всех смыслах ) Немн...</td>\n",
       "    </tr>\n",
       "  </tbody>\n",
       "</table>\n",
       "</div>"
      ],
      "text/plain": [
       "  rating                                            rubrics  \\\n",
       "0     3.                                     Жилой комплекс   \n",
       "1     5.  Магазин продуктов;Продукты глубокой заморозки;...   \n",
       "2     1.                                        Фитнес-клуб   \n",
       "3     4.        Пункт проката;Прокат велосипедов;Сапсёрфинг   \n",
       "4     5.  Салон красоты;Визажисты, стилисты;Салон бровей...   \n",
       "\n",
       "                                                text  \n",
       "0  Московский квартал 2.\\nШумно : летом по ночам ...  \n",
       "1  Замечательная сеть магазинов в общем, хороший ...  \n",
       "2  Не знаю смутят ли кого-то данные правила, но я...  \n",
       "3  Хорошие условия аренды. \\nДружелюбный персонал...  \n",
       "4  Топ мастер Ангелина топ во всех смыслах ) Немн...  "
      ]
     },
     "execution_count": 1,
     "metadata": {},
     "output_type": "execute_result"
    }
   ],
   "source": [
    "import pandas as pd\n",
    "\n",
    "# Функция для чтения строки из датасета\n",
    "def get_row_from_line(line: str) -> dict[str, str]:\n",
    "\n",
    "    columns = line.split(\"\\t\")\n",
    "\n",
    "    row: dict[str, str] = dict()\n",
    "    \n",
    "    for column in columns:\n",
    "\n",
    "        delimiter_postion = column.find(\"=\")\n",
    "        \n",
    "        column_name = column[:delimiter_postion]\n",
    "        data = column[delimiter_postion + 1:]\n",
    "        \n",
    "        row[column_name] = data\n",
    "\n",
    "    return row\n",
    "\n",
    "\n",
    "file_path = r\"C:\\Users\\User\\Downloads\\geo-reviews-dataset-2023.tskv\"\n",
    "\n",
    "with open(file_path, mode=\"r\", encoding=\"utf-8\") as file:\n",
    "    rows = [get_row_from_line(line) for line in file]\n",
    "\n",
    "df = pd.DataFrame(rows)\n",
    "\n",
    "# Удаляем колонки адреса и названия организации\n",
    "df = df.drop([\"address\", \"name_ru\"], axis=1)\n",
    "\n",
    "df.head()"
   ]
  },
  {
   "cell_type": "markdown",
   "id": "fda67be4-0d22-4a07-8273-b45451b808dc",
   "metadata": {},
   "source": [
    "## Уменьшение датасета"
   ]
  },
  {
   "cell_type": "code",
   "execution_count": 2,
   "id": "e0eca862-7797-431d-9c85-e6f81e905911",
   "metadata": {},
   "outputs": [],
   "source": [
    "df = df.loc[:10000]"
   ]
  },
  {
   "cell_type": "markdown",
   "id": "6d2439be-09d1-40e0-9c10-453008f9b608",
   "metadata": {},
   "source": [
    "## Конвертация данных"
   ]
  },
  {
   "cell_type": "code",
   "execution_count": 3,
   "id": "8b8d9093-cb28-44f7-9481-04df690f1de2",
   "metadata": {},
   "outputs": [
    {
     "data": {
      "text/html": [
       "<div>\n",
       "<style scoped>\n",
       "    .dataframe tbody tr th:only-of-type {\n",
       "        vertical-align: middle;\n",
       "    }\n",
       "\n",
       "    .dataframe tbody tr th {\n",
       "        vertical-align: top;\n",
       "    }\n",
       "\n",
       "    .dataframe thead th {\n",
       "        text-align: right;\n",
       "    }\n",
       "</style>\n",
       "<table border=\"1\" class=\"dataframe\">\n",
       "  <thead>\n",
       "    <tr style=\"text-align: right;\">\n",
       "      <th></th>\n",
       "      <th>rating</th>\n",
       "      <th>rubrics</th>\n",
       "      <th>text</th>\n",
       "    </tr>\n",
       "  </thead>\n",
       "  <tbody>\n",
       "    <tr>\n",
       "      <th>0</th>\n",
       "      <td>3</td>\n",
       "      <td>[Жилой комплекс]</td>\n",
       "      <td>Московский квартал 2.\\nШумно : летом по ночам ...</td>\n",
       "    </tr>\n",
       "    <tr>\n",
       "      <th>1</th>\n",
       "      <td>5</td>\n",
       "      <td>[Магазин продуктов, Продукты глубокой заморозк...</td>\n",
       "      <td>Замечательная сеть магазинов в общем, хороший ...</td>\n",
       "    </tr>\n",
       "    <tr>\n",
       "      <th>2</th>\n",
       "      <td>1</td>\n",
       "      <td>[Фитнес-клуб]</td>\n",
       "      <td>Не знаю смутят ли кого-то данные правила, но я...</td>\n",
       "    </tr>\n",
       "    <tr>\n",
       "      <th>3</th>\n",
       "      <td>4</td>\n",
       "      <td>[Пункт проката, Прокат велосипедов, Сапсёрфинг]</td>\n",
       "      <td>Хорошие условия аренды. \\nДружелюбный персонал...</td>\n",
       "    </tr>\n",
       "    <tr>\n",
       "      <th>4</th>\n",
       "      <td>5</td>\n",
       "      <td>[Салон красоты, Визажисты, стилисты, Салон бро...</td>\n",
       "      <td>Топ мастер Ангелина топ во всех смыслах ) Немн...</td>\n",
       "    </tr>\n",
       "  </tbody>\n",
       "</table>\n",
       "</div>"
      ],
      "text/plain": [
       "   rating                                            rubrics  \\\n",
       "0       3                                   [Жилой комплекс]   \n",
       "1       5  [Магазин продуктов, Продукты глубокой заморозк...   \n",
       "2       1                                      [Фитнес-клуб]   \n",
       "3       4    [Пункт проката, Прокат велосипедов, Сапсёрфинг]   \n",
       "4       5  [Салон красоты, Визажисты, стилисты, Салон бро...   \n",
       "\n",
       "                                                text  \n",
       "0  Московский квартал 2.\\nШумно : летом по ночам ...  \n",
       "1  Замечательная сеть магазинов в общем, хороший ...  \n",
       "2  Не знаю смутят ли кого-то данные правила, но я...  \n",
       "3  Хорошие условия аренды. \\nДружелюбный персонал...  \n",
       "4  Топ мастер Ангелина топ во всех смыслах ) Немн...  "
      ]
     },
     "execution_count": 3,
     "metadata": {},
     "output_type": "execute_result"
    }
   ],
   "source": [
    "# Убираем точку из значения рейтинга и конвертируем в int\n",
    "df[\"rating\"] = pd.to_numeric(df[\"rating\"].str.replace(\".\", \"\"))\n",
    "\n",
    "# Конвертируем рубрики в список\n",
    "df[\"rubrics\"] = df[\"rubrics\"].apply(lambda x: x.split(\";\"))\n",
    "\n",
    "df.head()"
   ]
  },
  {
   "cell_type": "markdown",
   "id": "b6571876-cc9a-49b6-86e4-2b91808e7ecc",
   "metadata": {},
   "source": [
    "## Очистка текста отзывов"
   ]
  },
  {
   "cell_type": "code",
   "execution_count": 4,
   "id": "28bf6b6f-3b35-479f-9935-a9737514bec7",
   "metadata": {},
   "outputs": [
    {
     "data": {
      "text/html": [
       "<div>\n",
       "<style scoped>\n",
       "    .dataframe tbody tr th:only-of-type {\n",
       "        vertical-align: middle;\n",
       "    }\n",
       "\n",
       "    .dataframe tbody tr th {\n",
       "        vertical-align: top;\n",
       "    }\n",
       "\n",
       "    .dataframe thead th {\n",
       "        text-align: right;\n",
       "    }\n",
       "</style>\n",
       "<table border=\"1\" class=\"dataframe\">\n",
       "  <thead>\n",
       "    <tr style=\"text-align: right;\">\n",
       "      <th></th>\n",
       "      <th>rating</th>\n",
       "      <th>rubrics</th>\n",
       "      <th>text</th>\n",
       "    </tr>\n",
       "  </thead>\n",
       "  <tbody>\n",
       "    <tr>\n",
       "      <th>0</th>\n",
       "      <td>3</td>\n",
       "      <td>[Жилой комплекс]</td>\n",
       "      <td>московский квартал шумно летом ночам дикие гон...</td>\n",
       "    </tr>\n",
       "    <tr>\n",
       "      <th>1</th>\n",
       "      <td>5</td>\n",
       "      <td>[Магазин продуктов, Продукты глубокой заморозк...</td>\n",
       "      <td>замечательная сеть магазинов общем хороший асс...</td>\n",
       "    </tr>\n",
       "    <tr>\n",
       "      <th>2</th>\n",
       "      <td>1</td>\n",
       "      <td>[Фитнес-клуб]</td>\n",
       "      <td>знаю смутят когото данные правила удивлена хоч...</td>\n",
       "    </tr>\n",
       "    <tr>\n",
       "      <th>3</th>\n",
       "      <td>4</td>\n",
       "      <td>[Пункт проката, Прокат велосипедов, Сапсёрфинг]</td>\n",
       "      <td>хорошие условия аренды дружелюбный персонално ...</td>\n",
       "    </tr>\n",
       "    <tr>\n",
       "      <th>4</th>\n",
       "      <td>5</td>\n",
       "      <td>[Салон красоты, Визажисты, стилисты, Салон бро...</td>\n",
       "      <td>топ мастер ангелина топ смыслах немного волнов...</td>\n",
       "    </tr>\n",
       "  </tbody>\n",
       "</table>\n",
       "</div>"
      ],
      "text/plain": [
       "   rating                                            rubrics  \\\n",
       "0       3                                   [Жилой комплекс]   \n",
       "1       5  [Магазин продуктов, Продукты глубокой заморозк...   \n",
       "2       1                                      [Фитнес-клуб]   \n",
       "3       4    [Пункт проката, Прокат велосипедов, Сапсёрфинг]   \n",
       "4       5  [Салон красоты, Визажисты, стилисты, Салон бро...   \n",
       "\n",
       "                                                text  \n",
       "0  московский квартал шумно летом ночам дикие гон...  \n",
       "1  замечательная сеть магазинов общем хороший асс...  \n",
       "2  знаю смутят когото данные правила удивлена хоч...  \n",
       "3  хорошие условия аренды дружелюбный персонално ...  \n",
       "4  топ мастер ангелина топ смыслах немного волнов...  "
      ]
     },
     "execution_count": 4,
     "metadata": {},
     "output_type": "execute_result"
    }
   ],
   "source": [
    "import re\n",
    "import nltk\n",
    "from nltk.corpus import stopwords\n",
    "from nltk.stem import WordNetLemmatizer\n",
    "\n",
    "\n",
    "# Функция для очистки текста\n",
    "def clean_text(text: str):\n",
    "\n",
    "    # Удаление переносов строк\n",
    "    text = text.replace(\"\\\\n\", \"\")\n",
    "    \n",
    "    # Приведение к нижнему регистру\n",
    "    text = text.lower()\n",
    "    \n",
    "    # Удаление пунктуации и специальных символов\n",
    "    text = re.sub(r'[^a-zа-яё\\s]', '', text)  # Убираем все, кроме букв и пробелов\n",
    "    \n",
    "    # Токенизация\n",
    "    tokens = nltk.word_tokenize(text)\n",
    "    \n",
    "    # Удаление стоп-слов\n",
    "    stop_words = set(stopwords.words('russian'))\n",
    "    tokens = [word for word in tokens if word not in stop_words]\n",
    "    \n",
    "    # Лемматизация\n",
    "    lemmatizer = WordNetLemmatizer()\n",
    "    tokens = [lemmatizer.lemmatize(word) for word in tokens]\n",
    "    \n",
    "    # Объединение токенов обратно в строку\n",
    "    cleaned_text = ' '.join(tokens)\n",
    "    \n",
    "    return cleaned_text\n",
    "\n",
    "\n",
    "# Применение функции очистки к каждому отзыву\n",
    "df[\"text\"] = df[\"text\"].apply(clean_text)\n",
    "\n",
    "df.head()"
   ]
  },
  {
   "cell_type": "markdown",
   "id": "df64c3dd-ee97-4f91-817f-976339bda3a8",
   "metadata": {},
   "source": [
    "## Преобразование рубрик в бинарный формат"
   ]
  },
  {
   "cell_type": "code",
   "execution_count": 6,
   "id": "1b53b80c-10eb-474b-bfd2-cd48d8541721",
   "metadata": {},
   "outputs": [],
   "source": [
    "from sklearn.preprocessing import MultiLabelBinarizer\n",
    "\n",
    "\n",
    "# Преобразуем рубрики в бинарный формат\n",
    "mlb = MultiLabelBinarizer()\n",
    "df_rubrics = pd.DataFrame(mlb.fit_transform(df['rubrics']), columns=mlb.classes_)\n",
    "df = pd.concat([df, df_rubrics], axis=1)\n",
    "df = df.drop('rubrics', axis=1)"
   ]
  },
  {
   "cell_type": "markdown",
   "id": "6b353d35-b0fa-46ce-b461-473e293293a7",
   "metadata": {},
   "source": [
    "## Преобразование текста отзыва в векторы TF-IDF"
   ]
  },
  {
   "cell_type": "code",
   "execution_count": 7,
   "id": "cd8609b1-0df0-481c-aeff-5c0d2cf359e5",
   "metadata": {},
   "outputs": [],
   "source": [
    "from sklearn.feature_extraction.text import TfidfVectorizer\n",
    "\n",
    "\n",
    "# Преобразуем текст отзыва в векторы TF-IDF\n",
    "vectorizer = TfidfVectorizer(max_features=5000)\n",
    "text_vectors = vectorizer.fit_transform(df['text'])"
   ]
  },
  {
   "cell_type": "markdown",
   "id": "58d7be42-ebd3-484a-861f-95ef68871e37",
   "metadata": {},
   "source": [
    "## Подготовка данных для обучения"
   ]
  },
  {
   "cell_type": "code",
   "execution_count": 8,
   "id": "edd3f769-58b4-4000-b7a9-ca0230f4af1d",
   "metadata": {},
   "outputs": [],
   "source": [
    "from sklearn.model_selection import train_test_split\n",
    "\n",
    "\n",
    "# Объединяем векторы TF-IDF с преобразованными рубриками и оценками\n",
    "X = pd.concat([pd.DataFrame(text_vectors.toarray()), df.drop(['text', 'rating'], axis=1)], axis=1)\n",
    "y = df['rating']\n",
    "\n",
    "# Разделяем датасет на обучающую и тестовую выборки\n",
    "X_train, X_test, y_train, y_test = train_test_split(X, y, test_size=0.2, random_state=42)"
   ]
  },
  {
   "cell_type": "markdown",
   "id": "41396318-5852-48d5-a7ac-237cb1c59f0a",
   "metadata": {},
   "source": [
    "## Обучение модели"
   ]
  },
  {
   "cell_type": "code",
   "execution_count": 9,
   "id": "74fa0a92-af69-438e-81fa-a1cf2b269195",
   "metadata": {},
   "outputs": [
    {
     "name": "stderr",
     "output_type": "stream",
     "text": [
      "[neptune] [warning] NeptuneDeprecationWarning: The 'neptune-client' package has been deprecated and will be removed in the future. Install the 'neptune' package instead. For more, see https://docs.neptune.ai/setup/upgrading/\n",
      "[neptune] [warning] NeptuneWarning: By default, these monitoring options are disabled in interactive sessions: 'capture_stdout', 'capture_stderr', 'capture_traceback', 'capture_hardware_metrics'. You can set them to 'True' when initializing the run and the monitoring will continue until you call run.stop() or the kernel stops. NOTE: To track the source files, pass their paths to the 'source_code' argument. For help, see: https://docs.neptune.ai/logging/source_code/\n"
     ]
    },
    {
     "name": "stdout",
     "output_type": "stream",
     "text": [
      "[neptune] [info   ] Neptune initialized. Open in the app: https://app.neptune.ai/svterskov/LSML2/e/LSML2-9\n"
     ]
    },
    {
     "name": "stderr",
     "output_type": "stream",
     "text": [
      "C:\\Users\\User\\AppData\\Local\\Programs\\Python\\Python312\\Lib\\site-packages\\neptune\\internal\\utils\\git.py:71: UserWarning: GitPython could not be initialized\n",
      "  warnings.warn(\"GitPython could not be initialized\")\n"
     ]
    },
    {
     "name": "stdout",
     "output_type": "stream",
     "text": [
      "[neptune] [info   ] Shutting down background jobs, please wait a moment...\n",
      "[neptune] [info   ] Done!\n",
      "[neptune] [info   ] Waiting for the remaining 2 operations to synchronize with Neptune. Do not kill this process.\n",
      "[neptune] [info   ] All 2 operations synced, thanks for waiting!\n",
      "[neptune] [info   ] Explore the metadata in the Neptune app: https://app.neptune.ai/svterskov/LSML2/e/LSML2-9/metadata\n"
     ]
    },
    {
     "name": "stderr",
     "output_type": "stream",
     "text": [
      "C:\\Users\\User\\AppData\\Local\\Programs\\Python\\Python312\\Lib\\site-packages\\neptune\\internal\\utils\\git.py:71: UserWarning: GitPython could not be initialized\n",
      "  warnings.warn(\"GitPython could not be initialized\")\n"
     ]
    },
    {
     "name": "stdout",
     "output_type": "stream",
     "text": [
      "[neptune] [info   ] Neptune initialized. Open in the app: https://app.neptune.ai/svterskov/LSML2/e/LSML2-10\n",
      "[neptune] [info   ] Shutting down background jobs, please wait a moment...\n",
      "[neptune] [info   ] Done!\n",
      "[neptune] [info   ] Waiting for the remaining 2 operations to synchronize with Neptune. Do not kill this process.\n",
      "[neptune] [info   ] All 2 operations synced, thanks for waiting!\n",
      "[neptune] [info   ] Explore the metadata in the Neptune app: https://app.neptune.ai/svterskov/LSML2/e/LSML2-10/metadata\n"
     ]
    },
    {
     "name": "stderr",
     "output_type": "stream",
     "text": [
      "C:\\Users\\User\\AppData\\Local\\Programs\\Python\\Python312\\Lib\\site-packages\\neptune\\internal\\utils\\git.py:71: UserWarning: GitPython could not be initialized\n",
      "  warnings.warn(\"GitPython could not be initialized\")\n"
     ]
    },
    {
     "name": "stdout",
     "output_type": "stream",
     "text": [
      "[neptune] [info   ] Neptune initialized. Open in the app: https://app.neptune.ai/svterskov/LSML2/e/LSML2-11\n",
      "[neptune] [info   ] Shutting down background jobs, please wait a moment...\n",
      "[neptune] [info   ] Done!\n",
      "[neptune] [info   ] Waiting for the remaining 2 operations to synchronize with Neptune. Do not kill this process.\n",
      "[neptune] [info   ] All 2 operations synced, thanks for waiting!\n",
      "[neptune] [info   ] Explore the metadata in the Neptune app: https://app.neptune.ai/svterskov/LSML2/e/LSML2-11/metadata\n"
     ]
    }
   ],
   "source": [
    "import xgboost as xgb\n",
    "from sklearn.metrics import mean_squared_error\n",
    "\n",
    "import neptune\n",
    "import joblib\n",
    "\n",
    "\n",
    "# Параметры для обучения моделей\n",
    "parameters = [\n",
    "    {\"n_estimators\": 100,  \"learning_rate\": 0.2, \"max_depth\": 5 },\n",
    "    {\"n_estimators\": 200,  \"learning_rate\": 0.1, \"max_depth\": 10 },\n",
    "    {\"n_estimators\": 300,  \"learning_rate\": 0.05, \"max_depth\": 15 },\n",
    "]\n",
    "\n",
    "for current_parameters in parameters:\n",
    "\n",
    "    # Инициализация Neptune\n",
    "    run = neptune.init_run(\n",
    "        project=\"svterskov/LSML2\",\n",
    "        api_token=\"eyJhcGlfYWRkcmVzcyI6Imh0dHBzOi8vYXBwLm5lcHR1bmUuYWkiLCJhcGlfdXJsIjoiaHR0cHM6Ly9hcHAubmVwdHVuZS5haSIsImFwaV9rZXkiOiIyY2FkZDgxNy1kZDJmLTRlMWItOWU0Zi1iZTc5YjI4MThmYzEifQ==\",\n",
    "    )\n",
    "\n",
    "    run[\"parameters\"] = current_parameters\n",
    "\n",
    "    # Создаем и обучаем модель XGBoost\n",
    "    xgb_model = xgb.XGBRegressor(\n",
    "        objective=\"reg:squarederror\",\n",
    "        n_estimators=current_parameters[\"n_estimators\"],\n",
    "        learning_rate=current_parameters[\"learning_rate\"],\n",
    "        max_depth=current_parameters[\"max_depth\"]\n",
    "    )\n",
    "    \n",
    "    xgb_model.fit(X_train, y_train)\n",
    "\n",
    "    # Оцениваем качество модели на тестовой выборке\n",
    "    y_pred = xgb_model.predict(X_test)\n",
    "    mse = mean_squared_error(y_test, y_pred)\n",
    "\n",
    "    # Логируем метрики\n",
    "    run['mse'] = mse\n",
    "\n",
    "    # Сохраняем модель\n",
    "    joblib.dump(xgb_model, 'xgb_model.pkl')\n",
    "    run['model'].upload('xgb_model.pkl')\n",
    "\n",
    "    # Завершение эксперимента\n",
    "    run.stop()"
   ]
  },
  {
   "cell_type": "markdown",
   "id": "0a824515-6289-4b03-b05f-fcabd9d96549",
   "metadata": {},
   "source": [
    "## Сохранение векторов TF-IDF и MultiLabelBinarizer для использования в сервисе"
   ]
  },
  {
   "cell_type": "code",
   "execution_count": 10,
   "id": "7030de6a-ab21-457d-be4d-f686022fa5c7",
   "metadata": {},
   "outputs": [
    {
     "data": {
      "text/plain": [
       "['mlb.pkl']"
      ]
     },
     "execution_count": 10,
     "metadata": {},
     "output_type": "execute_result"
    }
   ],
   "source": [
    "joblib.dump(vectorizer, 'vectorizer.pkl')\n",
    "joblib.dump(mlb, 'mlb.pkl')"
   ]
  },
  {
   "cell_type": "markdown",
   "id": "2498693f-aba1-4390-9478-b6f83964cc23",
   "metadata": {},
   "source": [
    "# Файлы python для сервиса модели"
   ]
  },
  {
   "cell_type": "markdown",
   "id": "683fe03e-62df-4a18-adf3-a93ca0daafd7",
   "metadata": {},
   "source": [
    "## Model.py"
   ]
  },
  {
   "cell_type": "code",
   "execution_count": 20,
   "id": "67fb0110-12e9-4ef8-8f91-42760402eb95",
   "metadata": {},
   "outputs": [
    {
     "name": "stdout",
     "output_type": "stream",
     "text": [
      "Writing model.py\n"
     ]
    }
   ],
   "source": [
    "%%writefile model.py\n",
    "\n",
    "import joblib\n",
    "import pandas as pd\n",
    "from sklearn.preprocessing import MultiLabelBinarizer\n",
    "from sklearn.feature_extraction.text import TfidfVectorizer\n",
    "\n",
    "class Model:\n",
    "    def __init__(self):\n",
    "        self.model = joblib.load('xgb_model.pkl')\n",
    "        self.vectorizer = joblib.load('vectorizer.pkl')\n",
    "        self.mlb = joblib.load('mlb.pkl')\n",
    "\n",
    "    def predict(self, text, rubrics):\n",
    "        rubrics_vector = self.mlb.transform([rubrics])[0]\n",
    "        text_vector = self.vectorizer.transform([text]).toarray()[0]\n",
    "        input_vector = list(text_vector) + list(rubrics_vector)\n",
    "        return self.model.predict([input_vector])[0]"
   ]
  },
  {
   "cell_type": "markdown",
   "id": "bf18fe08-e2c1-4bad-8262-7ded6ff33338",
   "metadata": {},
   "source": [
    "## App.py"
   ]
  },
  {
   "cell_type": "code",
   "execution_count": 21,
   "id": "e92cd394-fe2d-4aee-b958-282a0596c18e",
   "metadata": {},
   "outputs": [
    {
     "name": "stdout",
     "output_type": "stream",
     "text": [
      "Writing app.py\n"
     ]
    }
   ],
   "source": [
    "%%writefile app.py\n",
    "\n",
    "from flask import Flask, request, render_template, jsonify\n",
    "from model import Model\n",
    "\n",
    "app = Flask(__name__)\n",
    "model = Model()\n",
    "\n",
    "@app.route('/')\n",
    "def index():\n",
    "    return render_template('index.html')\n",
    "\n",
    "@app.route('/predict', methods=['POST'])\n",
    "def predict():\n",
    "    data = request.json\n",
    "    text = data['text']\n",
    "    rubrics = data['rubrics']\n",
    "    prediction = round(model.predict(text, rubrics))\n",
    "    \n",
    "    return jsonify({'prediction': prediction})\n",
    "\n",
    "if __name__ == '__main__':\n",
    "    app.run(host='0.0.0.0', port=5000)"
   ]
  },
  {
   "cell_type": "code",
   "execution_count": null,
   "id": "cd6d5f28-9c3b-4fe4-a80d-a53e154176d1",
   "metadata": {},
   "outputs": [],
   "source": []
  }
 ],
 "metadata": {
  "kernelspec": {
   "display_name": "Python 3 (ipykernel)",
   "language": "python",
   "name": "python3"
  },
  "language_info": {
   "codemirror_mode": {
    "name": "ipython",
    "version": 3
   },
   "file_extension": ".py",
   "mimetype": "text/x-python",
   "name": "python",
   "nbconvert_exporter": "python",
   "pygments_lexer": "ipython3",
   "version": "3.12.6"
  }
 },
 "nbformat": 4,
 "nbformat_minor": 5
}
